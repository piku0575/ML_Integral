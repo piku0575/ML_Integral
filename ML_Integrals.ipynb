{
  "nbformat": 4,
  "nbformat_minor": 0,
  "metadata": {
    "colab": {
      "name": "ML_Integrals.ipynb",
      "provenance": []
    },
    "kernelspec": {
      "name": "python3",
      "display_name": "Python 3"
    },
    "language_info": {
      "name": "python"
    }
  },
  "cells": [
    {
      "cell_type": "code",
      "metadata": {
        "id": "XEmmF5cUULLu"
      },
      "source": [
        "import numpy as np\n",
        "import matplotlib.pyplot as plt\n"
      ],
      "execution_count": 30,
      "outputs": []
    },
    {
      "cell_type": "code",
      "metadata": {
        "id": "oroCsEViTvNp"
      },
      "source": [
        "Define a function which returns 2x"
      ],
      "execution_count": null,
      "outputs": []
    },
    {
      "cell_type": "code",
      "metadata": {
        "id": "SJsH0TZqR_xZ"
      },
      "source": [
        "def g_2x(x):\n",
        "  return 2*x"
      ],
      "execution_count": 7,
      "outputs": []
    },
    {
      "cell_type": "code",
      "metadata": {
        "id": "HXCERso0UG-b"
      },
      "source": [
        "delta_x=1\n",
        "x=np.arange(0,7,delta_x)"
      ],
      "execution_count": 8,
      "outputs": []
    },
    {
      "cell_type": "markdown",
      "metadata": {
        "id": "-rzhCc-LVDwK"
      },
      "source": [
        "The arange([start,] stop[, step,][, dtype]) : Returns an array with evenly spaced elements as per the interval. "
      ]
    },
    {
      "cell_type": "code",
      "metadata": {
        "colab": {
          "base_uri": "https://localhost:8080/"
        },
        "id": "L2Cv568MUKV1",
        "outputId": "189843a4-6e67-4256-b731-668a4294a82a"
      },
      "source": [
        "x"
      ],
      "execution_count": 9,
      "outputs": [
        {
          "output_type": "execute_result",
          "data": {
            "text/plain": [
              "array([0, 1, 2, 3, 4, 5, 6])"
            ]
          },
          "metadata": {},
          "execution_count": 9
        }
      ]
    },
    {
      "cell_type": "code",
      "metadata": {
        "colab": {
          "base_uri": "https://localhost:8080/"
        },
        "id": "3lU5qxJpVdXC",
        "outputId": "8776e082-3ae6-4900-ce0b-cdb8b316263a"
      },
      "source": [
        "y=g_2x(x)\n",
        "print (y)\n",
        "print (len(x))"
      ],
      "execution_count": 25,
      "outputs": [
        {
          "output_type": "stream",
          "name": "stdout",
          "text": [
            "[ 0  2  4  6  8 10 12]\n",
            "7\n"
          ]
        }
      ]
    },
    {
      "cell_type": "markdown",
      "metadata": {
        "id": "nNWiwax4YG1a"
      },
      "source": [
        "Here we have applied the values of x in the function and found the y coordinate on the graph"
      ]
    },
    {
      "cell_type": "code",
      "metadata": {
        "colab": {
          "base_uri": "https://localhost:8080/"
        },
        "id": "-zI2vj4PYNtA",
        "outputId": "932d5644-9a0b-4f8c-df02-3adf0b5f10b5"
      },
      "source": [
        "slice_area_all= np.zeros(y.shape[0])\n",
        "for i in range(1, len(x)):\n",
        "  slice_area_all[i]=delta_x * y[i-1]\n",
        "slice_area_all\n",
        "               \n",
        "          "
      ],
      "execution_count": 28,
      "outputs": [
        {
          "output_type": "execute_result",
          "data": {
            "text/plain": [
              "array([ 0.,  0.,  2.,  4.,  6.,  8., 10.])"
            ]
          },
          "metadata": {},
          "execution_count": 28
        }
      ]
    },
    {
      "cell_type": "markdown",
      "metadata": {
        "id": "ytri5UqjfPa2"
      },
      "source": [
        "Here first we have defined an array in which we will store the area of a slice"
      ]
    },
    {
      "cell_type": "code",
      "metadata": {
        "colab": {
          "base_uri": "https://localhost:8080/",
          "height": 282
        },
        "id": "6_yj9WvYe1ZO",
        "outputId": "d2de6884-631f-4139-f4b8-a027eef89f2f"
      },
      "source": [
        "plt.plot(x, slice_area_all, label='Estimated')"
      ],
      "execution_count": 31,
      "outputs": [
        {
          "output_type": "execute_result",
          "data": {
            "text/plain": [
              "[<matplotlib.lines.Line2D at 0x7fea959e2250>]"
            ]
          },
          "metadata": {},
          "execution_count": 31
        },
        {
          "output_type": "display_data",
          "data": {
            "image/png": "[encoded data removed]",
            "text/plain": [
              "<Figure size 432x288 with 1 Axes>"
            ]
          },
          "metadata": {
            "needs_background": "light"
          }
        }
      ]
    },
    {
      "cell_type": "code",
      "metadata": {
        "colab": {
          "base_uri": "https://localhost:8080/"
        },
        "id": "fEEljtkqhKgL",
        "outputId": "f412d3a8-da1f-4fd8-8da1-b83a65a713af"
      },
      "source": [
        "#To calculate the cumulative sum \n",
        "slice_area_all=slice_area_all.cumsum()\n",
        "slice_area_all"
      ],
      "execution_count": 32,
      "outputs": [
        {
          "output_type": "execute_result",
          "data": {
            "text/plain": [
              "array([ 0.,  0.,  2.,  6., 12., 20., 30.])"
            ]
          },
          "metadata": {},
          "execution_count": 32
        }
      ]
    },
    {
      "cell_type": "markdown",
      "metadata": {
        "id": "AHya18-KhWIj"
      },
      "source": [
        "To calculate the distance traveled from the beginning to the corresponding time point (and not corresponding to each slice), you can calculate the cumulative sum of slice_area_all with the Numpy function cumsum():\n",
        "\n"
      ]
    },
    {
      "cell_type": "code",
      "metadata": {
        "colab": {
          "base_uri": "https://localhost:8080/",
          "height": 282
        },
        "id": "Vil2E7ZwixNw",
        "outputId": "9839689f-2a1a-4e58-d0f2-fd9cbf4f9f32"
      },
      "source": [
        "#Comparing our plot vs the original integral plot\n",
        "\n",
        "plt.plot(x, x**2, label='True')\n",
        "plt.plot(x,slice_area_all,label='Estimated')"
      ],
      "execution_count": 33,
      "outputs": [
        {
          "output_type": "execute_result",
          "data": {
            "text/plain": [
              "[<matplotlib.lines.Line2D at 0x7fea95468710>]"
            ]
          },
          "metadata": {},
          "execution_count": 33
        },
        {
          "output_type": "display_data",
          "data": {
            "image/png": "[encoded data removed]",
            "text/plain": [
              "<Figure size 432x288 with 1 Axes>"
            ]
          },
          "metadata": {
            "needs_background": "light"
          }
        }
      ]
    },
    {
      "cell_type": "markdown",
      "metadata": {
        "id": "J-eTKaJ4lIL1"
      },
      "source": [
        "The estimation is close but could be improved if we count the triangles we missed!"
      ]
    },
    {
      "cell_type": "code",
      "metadata": {
        "colab": {
          "base_uri": "https://localhost:8080/"
        },
        "id": "FlI82G94lRkR",
        "outputId": "19820aa2-3339-4870-e772-661fa8bd8673"
      },
      "source": [
        "#Taking delta_x=0.1 to improve accuracy\n",
        "delta_x=0.1\n",
        "x=np.arange(0,7,delta_x)\n",
        "y=g_2x(x)\n",
        "\n",
        "\n",
        "slice_area_all= np.zeros(y.shape[0])\n",
        "for i in range(1, len(x)):\n",
        "  slice_area_all[i]=delta_x * y[i-1]\n",
        "slice_area_all"
      ],
      "execution_count": 38,
      "outputs": [
        {
          "output_type": "execute_result",
          "data": {
            "text/plain": [
              "array([0.  , 0.  , 0.02, 0.04, 0.06, 0.08, 0.1 , 0.12, 0.14, 0.16, 0.18,\n",
              "       0.2 , 0.22, 0.24, 0.26, 0.28, 0.3 , 0.32, 0.34, 0.36, 0.38, 0.4 ,\n",
              "       0.42, 0.44, 0.46, 0.48, 0.5 , 0.52, 0.54, 0.56, 0.58, 0.6 , 0.62,\n",
              "       0.64, 0.66, 0.68, 0.7 , 0.72, 0.74, 0.76, 0.78, 0.8 , 0.82, 0.84,\n",
              "       0.86, 0.88, 0.9 , 0.92, 0.94, 0.96, 0.98, 1.  , 1.02, 1.04, 1.06,\n",
              "       1.08, 1.1 , 1.12, 1.14, 1.16, 1.18, 1.2 , 1.22, 1.24, 1.26, 1.28,\n",
              "       1.3 , 1.32, 1.34, 1.36])"
            ]
          },
          "metadata": {},
          "execution_count": 38
        }
      ]
    },
    {
      "cell_type": "code",
      "metadata": {
        "colab": {
          "base_uri": "https://localhost:8080/"
        },
        "id": "ykewtll0nleS",
        "outputId": "55432beb-16c3-4c24-d2e2-8f2dd04d1118"
      },
      "source": [
        "#To calculate the cumulative sum \n",
        "slice_area_all=slice_area_all.cumsum()\n",
        "slice_area_all"
      ],
      "execution_count": 40,
      "outputs": [
        {
          "output_type": "execute_result",
          "data": {
            "text/plain": [
              "array([0.000e+00, 0.000e+00, 2.000e-02, 6.000e-02, 1.200e-01, 2.000e-01,\n",
              "       3.000e-01, 4.200e-01, 5.600e-01, 7.200e-01, 9.000e-01, 1.100e+00,\n",
              "       1.320e+00, 1.560e+00, 1.820e+00, 2.100e+00, 2.400e+00, 2.720e+00,\n",
              "       3.060e+00, 3.420e+00, 3.800e+00, 4.200e+00, 4.620e+00, 5.060e+00,\n",
              "       5.520e+00, 6.000e+00, 6.500e+00, 7.020e+00, 7.560e+00, 8.120e+00,\n",
              "       8.700e+00, 9.300e+00, 9.920e+00, 1.056e+01, 1.122e+01, 1.190e+01,\n",
              "       1.260e+01, 1.332e+01, 1.406e+01, 1.482e+01, 1.560e+01, 1.640e+01,\n",
              "       1.722e+01, 1.806e+01, 1.892e+01, 1.980e+01, 2.070e+01, 2.162e+01,\n",
              "       2.256e+01, 2.352e+01, 2.450e+01, 2.550e+01, 2.652e+01, 2.756e+01,\n",
              "       2.862e+01, 2.970e+01, 3.080e+01, 3.192e+01, 3.306e+01, 3.422e+01,\n",
              "       3.540e+01, 3.660e+01, 3.782e+01, 3.906e+01, 4.032e+01, 4.160e+01,\n",
              "       4.290e+01, 4.422e+01, 4.556e+01, 4.692e+01])"
            ]
          },
          "metadata": {},
          "execution_count": 40
        }
      ]
    },
    {
      "cell_type": "code",
      "metadata": {
        "colab": {
          "base_uri": "https://localhost:8080/",
          "height": 282
        },
        "id": "r9uqSeKOmwkm",
        "outputId": "76335016-9117-4b21-f5d5-81385429c4e7"
      },
      "source": [
        "plt.plot(x, x**2, label='True')\n",
        "plt.plot(x,slice_area_all,label='Estimated')"
      ],
      "execution_count": 41,
      "outputs": [
        {
          "output_type": "execute_result",
          "data": {
            "text/plain": [
              "[<matplotlib.lines.Line2D at 0x7fea94fcbd10>]"
            ]
          },
          "metadata": {},
          "execution_count": 41
        },
        {
          "output_type": "display_data",
          "data": {
            "image/png": "[encoded data removed]",
            "text/plain": [
              "<Figure size 432x288 with 1 Axes>"
            ]
          },
          "metadata": {
            "needs_background": "light"
          }
        }
      ]
    },
    {
      "cell_type": "code",
      "metadata": {
        "id": "kmnDgZC3k6m7"
      },
      "source": [
        ""
      ],
      "execution_count": null,
      "outputs": []
    }
  ]
}